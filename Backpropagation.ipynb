{
 "cells": [
  {
   "cell_type": "markdown",
   "metadata": {},
   "source": [
    "## Análise de corretude"
   ]
  },
  {
   "cell_type": "markdown",
   "metadata": {},
   "source": [
    "### 1. Backpropagation"
   ]
  },
  {
   "cell_type": "markdown",
   "metadata": {},
   "source": [
    "Para realizar a análise de corretude do algoritmo de backpropagation, criamos um script chamado `backpropagation_tester.py`, que pode ser usado da seguinte forma:"
   ]
  },
  {
   "cell_type": "code",
   "execution_count": 2,
   "metadata": {},
   "outputs": [
    {
     "name": "stdout",
     "output_type": "stream",
     "text": [
      "usage: backpropagation_tester.py [-h] [--check-gradients]\r\n",
      "                                 network_file weights_file dataset_file\r\n",
      "\r\n",
      "This script tests the backpropagation implementation, given a neural net\r\n",
      "specification file, an initial weights file, and a dataset. All arguments\r\n",
      "are positional and should be given in this order. Run it as below:\r\n",
      "    python3 backpropagation_tester.py <network> <weights> <dataset>\r\n",
      "\r\n",
      "positional arguments:\r\n",
      "  network_file       Neural network specification file\r\n",
      "  weights_file       File containing initial weights\r\n",
      "  dataset_file       Dataset to run backpropagation on\r\n",
      "\r\n",
      "optional arguments:\r\n",
      "  -h, --help         show this help message and exit\r\n",
      "  --check-gradients\r\n"
     ]
    }
   ],
   "source": [
    "!python artificial_neural_network/backpropagation_tester.py -h"
   ]
  },
  {
   "cell_type": "markdown",
   "metadata": {},
   "source": [
    "Ele gera uma saída formatada contendo os gradientes obtidos a partir do treinamento em um conjunto de dados especificado, bem como uma estrutura de rede e pesos iniciais. A seguir, rodamos o script utilizando as especificações do benchmark 1, dado na especificação do trabalho:"
   ]
  },
  {
   "cell_type": "code",
   "execution_count": 1,
   "metadata": {},
   "outputs": [
    {
     "name": "stdout",
     "output_type": "stream",
     "text": [
      "0.02735, 0.01333; 0.03318, 0.01618\r\n",
      "0.23, 0.14037, 0.13756\r\n"
     ]
    }
   ],
   "source": [
    "!python artificial_neural_network/backpropagation_tester.py \\\n",
    "benchmarks/network1.txt\\\n",
    "benchmarks/initial_weights1.txt\\\n",
    "benchmarks/dataset1.txt"
   ]
  },
  {
   "cell_type": "markdown",
   "metadata": {},
   "source": [
    "Como visto pela saída obtida, os gradientes obtidos batem com o esperado do primeiro benchmark. Seguimos então com o teste do segundo benchmark:"
   ]
  },
  {
   "cell_type": "code",
   "execution_count": 2,
   "metadata": {},
   "outputs": [
    {
     "name": "stdout",
     "output_type": "stream",
     "text": [
      "0.00804, 0.02564, 0.04987; 0.00666, 0.01837, 0.06719; 0.00973, 0.03196, 0.05252; 0.00776, 0.05037, 0.08492\r\n",
      "0.01071, 0.09068, 0.02512, 0.12597, 0.11586; 0.02442, 0.0678, 0.04164, 0.05308, 0.12677; 0.03056, 0.08924, 0.12094, 0.1027, 0.03078\r\n",
      "0.08135, 0.17935, 0.12476, 0.13186; 0.20982, 0.19195, 0.30343, 0.25249\r\n"
     ]
    }
   ],
   "source": [
    "!python artificial_neural_network/backpropagation_tester.py \\\n",
    "benchmarks/network2.txt\\\n",
    "benchmarks/initial_weights2.txt\\\n",
    "benchmarks/dataset2.txt"
   ]
  },
  {
   "cell_type": "markdown",
   "metadata": {},
   "source": [
    "Os valores desse teste também se igualam aos esperados."
   ]
  },
  {
   "cell_type": "markdown",
   "metadata": {},
   "source": [
    "### 2. Verificação numérica de gradientes "
   ]
  },
  {
   "cell_type": "markdown",
   "metadata": {},
   "source": [
    "O mesmo script usado para gerar os gradientes obtidos pelo algoritmo de backpropagation pode ser usado para realizar a verificação numérica desses gradientes, a fim de garantir sua corretude; basta passar a flag `--check-gradients` para o script:"
   ]
  },
  {
   "cell_type": "code",
   "execution_count": 1,
   "metadata": {},
   "outputs": [
    {
     "name": "stdout",
     "output_type": "stream",
     "text": [
      "Estimated gradients:\r\n",
      "[(1, array([[0.02735127, 0.01332868],\r\n",
      "       [0.03317985, 0.01618029]])), (2, array([[0.2299962 , 0.14037216, 0.13755255]]))]\r\n",
      "Backpropagation gradients:\r\n",
      "[(1, array([[0.02735032, 0.0133283 ],\r\n",
      "       [0.03317882, 0.01617989]])), (2, array([[0.22999262, 0.14037099, 0.13755199]]))]\r\n",
      "Gradients match!\r\n"
     ]
    }
   ],
   "source": [
    "!python artificial_neural_network/backpropagation_tester.py --check-gradients \\\n",
    "benchmarks/network1.txt\\\n",
    "benchmarks/initial_weights1.txt\\\n",
    "benchmarks/dataset1.txt"
   ]
  },
  {
   "cell_type": "code",
   "execution_count": 2,
   "metadata": {},
   "outputs": [
    {
     "name": "stdout",
     "output_type": "stream",
     "text": [
      "Estimated gradients:\r\n",
      "[(1, array([[0.00803632, 0.02564136, 0.04987447],\r\n",
      "       [0.00665894, 0.018367  , 0.06719311],\r\n",
      "       [0.00972758, 0.03195985, 0.05251862],\r\n",
      "       [0.00775929, 0.05036916, 0.08492364]])), (2, array([[0.01071192, 0.09068409, 0.02511715, 0.12596776, 0.11586504],\r\n",
      "       [0.02441803, 0.06780287, 0.04163792, 0.05307657, 0.12676545],\r\n",
      "       [0.03056465, 0.08923518, 0.12094164, 0.10270219, 0.03078306]])), (3, array([[0.08135035, 0.17934954, 0.12475846, 0.13185907],\r\n",
      "       [0.20981587, 0.19194173, 0.30342522, 0.25248752]]))]\r\n",
      "Backpropagation gradients:\r\n",
      "[(1, array([[0.00803596, 0.02563986, 0.04987312],\r\n",
      "       [0.00665868, 0.01836556, 0.06719178],\r\n",
      "       [0.00972707, 0.03195826, 0.05251724],\r\n",
      "       [0.00775895, 0.05036766, 0.0849223 ]])), (2, array([[0.01071117, 0.09068231, 0.02511529, 0.12596601, 0.11586317],\r\n",
      "       [0.0244176 , 0.06780122, 0.04163615, 0.05307486, 0.12676359],\r\n",
      "       [0.03056379, 0.08923327, 0.12093959, 0.10270025, 0.03078094]])), (3, array([[0.08134536, 0.17934517, 0.1247551 , 0.13185691],\r\n",
      "       [0.20981108, 0.19193749, 0.30342195, 0.25248539]]))]\r\n",
      "Gradients match!\r\n"
     ]
    }
   ],
   "source": [
    "!python artificial_neural_network/backpropagation_tester.py --check-gradients \\\n",
    "benchmarks/network2.txt\\\n",
    "benchmarks/initial_weights2.txt\\\n",
    "benchmarks/dataset2.txt"
   ]
  },
  {
   "cell_type": "markdown",
   "metadata": {},
   "source": [
    "Se observarmos de perto, vemos que os valores obtidos pela estimação numérica não é _exatamente_ igual ao valor obtido pelo algoritmo de backpropagation, mas o erro costuma ocorrer na quinta ou sexta casa decimal, o que é perfeitamente aceitável para fins práticos."
   ]
  }
 ],
 "metadata": {
  "kernelspec": {
   "display_name": "Python 3",
   "language": "python",
   "name": "python3"
  },
  "language_info": {
   "codemirror_mode": {
    "name": "ipython",
    "version": 3
   },
   "file_extension": ".py",
   "mimetype": "text/x-python",
   "name": "python",
   "nbconvert_exporter": "python",
   "pygments_lexer": "ipython3",
   "version": "3.8.1"
  }
 },
 "nbformat": 4,
 "nbformat_minor": 4
}
