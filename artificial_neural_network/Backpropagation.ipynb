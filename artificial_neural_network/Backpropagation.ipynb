{
 "cells": [
  {
   "cell_type": "markdown",
   "metadata": {},
   "source": [
    "# Universidade Federal do Rio Grande do Sul"
   ]
  },
  {
   "cell_type": "markdown",
   "metadata": {},
   "source": [
    "## Redes Neurais — Backpropagation"
   ]
  },
  {
   "cell_type": "markdown",
   "metadata": {},
   "source": [
    "## Trabalho 2 — INF01017"
   ]
  },
  {
   "cell_type": "markdown",
   "metadata": {},
   "source": [
    "### Alunos: Dieu Merci Kengele, José Mário Reisswitz e Matheus Westhelle"
   ]
  },
  {
   "cell_type": "markdown",
   "metadata": {},
   "source": [
    "## Análise de corretude"
   ]
  },
  {
   "cell_type": "markdown",
   "metadata": {},
   "source": [
    "### 1. Backpropagation"
   ]
  },
  {
   "cell_type": "markdown",
   "metadata": {},
   "source": [
    "Para realizar a análise de corretude do algoritmo de backpropagation, criamos um script chamado `backpropagation_tester.py`, que pode ser usado da seguinte forma:"
   ]
  },
  {
   "cell_type": "code",
   "execution_count": 2,
   "metadata": {},
   "outputs": [
    {
     "name": "stdout",
     "output_type": "stream",
     "text": [
      "usage: backpropagation_tester.py [-h] [--check-gradients]\r\n",
      "                                 network_file weights_file dataset_file\r\n",
      "\r\n",
      "This script tests the backpropagation implementation, given a neural net\r\n",
      "specification file, an initial weights file, and a dataset. All arguments\r\n",
      "are positional and should be given in this order. Run it as below:\r\n",
      "    python3 backpropagation_tester.py <network> <weights> <dataset>\r\n",
      "\r\n",
      "positional arguments:\r\n",
      "  network_file       Neural network specification file\r\n",
      "  weights_file       File containing initial weights\r\n",
      "  dataset_file       Dataset to run backpropagation on\r\n",
      "\r\n",
      "optional arguments:\r\n",
      "  -h, --help         show this help message and exit\r\n",
      "  --check-gradients\r\n"
     ]
    }
   ],
   "source": [
    "!python backpropagation_tester.py -h"
   ]
  },
  {
   "cell_type": "markdown",
   "metadata": {},
   "source": [
    "Ele gera uma saída formatada contendo os gradientes obtidos a partir do treinamento em um conjunto de dados especificado, bem como uma estrutura de rede e pesos iniciais. A seguir, rodamos o script utilizando as especificações do benchmark 1, dado na especificação do trabalho:"
   ]
  },
  {
   "cell_type": "code",
   "execution_count": 16,
   "metadata": {},
   "outputs": [
    {
     "name": "stdout",
     "output_type": "stream",
     "text": [
      "0.02735, 0.01333; 0.03318, 0.01618\r\n",
      "0.23, 0.14037, 0.13756\r\n"
     ]
    }
   ],
   "source": [
    "!python backpropagation_tester.py \\\n",
    "../benchmarks/network1.txt\\\n",
    "../benchmarks/initial_weights1.txt\\\n",
    "../benchmarks/dataset1.txt"
   ]
  },
  {
   "cell_type": "markdown",
   "metadata": {},
   "source": [
    "Como visto pela saída obtida, os gradientes obtidos batem com o esperado do primeiro benchmark. Seguimos então com o teste do segundo benchmark:"
   ]
  },
  {
   "cell_type": "code",
   "execution_count": 15,
   "metadata": {},
   "outputs": [
    {
     "name": "stdout",
     "output_type": "stream",
     "text": [
      "0.00804, 0.02564, 0.04987; 0.00666, 0.01837, 0.06719; 0.00973, 0.03196, 0.05252; 0.00776, 0.05037, 0.08492\r\n",
      "0.01071, 0.09068, 0.02512, 0.12597, 0.11586; 0.02442, 0.0678, 0.04164, 0.05308, 0.12677; 0.03056, 0.08924, 0.12094, 0.1027, 0.03078\r\n",
      "0.08135, 0.17935, 0.12476, 0.13186; 0.20982, 0.19195, 0.30343, 0.25249\r\n"
     ]
    }
   ],
   "source": [
    "!python backpropagation_tester.py \\\n",
    "../benchmarks/network2.txt\\\n",
    "../benchmarks/initial_weights2.txt\\\n",
    "../benchmarks/dataset2.txt"
   ]
  },
  {
   "cell_type": "markdown",
   "metadata": {},
   "source": [
    "Os valores desse teste também se igualam aos esperados."
   ]
  },
  {
   "cell_type": "markdown",
   "metadata": {},
   "source": [
    "### 2. Verificação numérica de gradientes "
   ]
  },
  {
   "cell_type": "markdown",
   "metadata": {},
   "source": [
    "O mesmo script usado para gerar os gradientes obtidos pelo algoritmo de backpropagation pode ser usado para realizar a verificação numérica desses gradientes, a fim de garantir sua corretude; basta passar a flag `--check-gradients` para o script:"
   ]
  },
  {
   "cell_type": "code",
   "execution_count": 14,
   "metadata": {},
   "outputs": [
    {
     "name": "stdout",
     "output_type": "stream",
     "text": [
      "Estimated gradients:\r\n",
      "{1: array([[0.02735127, 0.01332868],\r\n",
      "       [0.03317985, 0.01618029]]), 2: array([[0.2299962 , 0.14037216, 0.13755255]])}\r\n",
      "Backpropagation gradients:\r\n",
      "{2: array([[0.22999262, 0.14037099, 0.13755199]]), 1: array([[0.02735032, 0.0133283 ],\r\n",
      "       [0.03317882, 0.01617989]])}\r\n",
      "Gradients match!\r\n"
     ]
    }
   ],
   "source": [
    "!python backpropagation_tester.py --check-gradients \\\n",
    "../benchmarks/network1.txt\\\n",
    "../benchmarks/initial_weights1.txt\\\n",
    "../benchmarks/dataset1.txt"
   ]
  },
  {
   "cell_type": "code",
   "execution_count": 13,
   "metadata": {},
   "outputs": [
    {
     "name": "stdout",
     "output_type": "stream",
     "text": [
      "Estimated gradients:\r\n",
      "{1: array([[0.00803632, 0.02564136, 0.04987447],\r\n",
      "       [0.00665894, 0.018367  , 0.06719311],\r\n",
      "       [0.00972758, 0.03195985, 0.05251862],\r\n",
      "       [0.00775929, 0.05036916, 0.08492364]]), 2: array([[0.01071192, 0.09068409, 0.02511715, 0.12596776, 0.11586504],\r\n",
      "       [0.02441803, 0.06780287, 0.04163792, 0.05307657, 0.12676545],\r\n",
      "       [0.03056465, 0.08923518, 0.12094164, 0.10270219, 0.03078306]]), 3: array([[0.08135035, 0.17934954, 0.12475846, 0.13185907],\r\n",
      "       [0.20981587, 0.19194173, 0.30342522, 0.25248752]])}\r\n",
      "Backpropagation gradients:\r\n",
      "{3: array([[0.08134536, 0.17934517, 0.1247551 , 0.13185691],\r\n",
      "       [0.20981108, 0.19193749, 0.30342195, 0.25248539]]), 2: array([[0.01071117, 0.09068231, 0.02511529, 0.12596601, 0.11586317],\r\n",
      "       [0.0244176 , 0.06780122, 0.04163615, 0.05307486, 0.12676359],\r\n",
      "       [0.03056379, 0.08923327, 0.12093959, 0.10270025, 0.03078094]]), 1: array([[0.00803596, 0.02563986, 0.04987312],\r\n",
      "       [0.00665868, 0.01836556, 0.06719178],\r\n",
      "       [0.00972707, 0.03195826, 0.05251724],\r\n",
      "       [0.00775895, 0.05036766, 0.0849223 ]])}\r\n",
      "Gradients match!\r\n"
     ]
    }
   ],
   "source": [
    "!python backpropagation_tester.py --check-gradients \\\n",
    "../benchmarks/network2.txt\\\n",
    "../benchmarks/initial_weights2.txt\\\n",
    "../benchmarks/dataset2.txt"
   ]
  },
  {
   "cell_type": "markdown",
   "metadata": {},
   "source": [
    "Se observarmos de perto, vemos que os valores obtidos pela estimação numérica não são _exatamente_ iguais aos valores obtidos pelo algoritmo de backpropagation, mas o erro costuma ocorrer na quinta ou sexta casa decimal, o que é perfeitamente aceitável para fins práticos."
   ]
  },
  {
   "cell_type": "code",
   "execution_count": 8,
   "metadata": {},
   "outputs": [
    {
     "name": "stdout",
     "output_type": "stream",
     "text": [
      "Epoch 100   training loss: 0.16125256616720599\n",
      "Accuracy: 0.993103448275862\n"
     ]
    },
    {
     "data": {
      "image/png": "[encoded data removed]",
      "text/plain": [
       "<Figure size 432x288 with 1 Axes>"
      ]
     },
     "metadata": {
      "needs_background": "light"
     },
     "output_type": "display_data"
    }
   ],
   "source": [
    "from mlp import MLP\n",
    "\n",
    "from matplotlib import pyplot as plt\n",
    "import pandas as pd\n",
    "import numpy as np\n",
    "\n",
    "dataset = pd.read_csv(\"../datasets/house_votes_84_normalized.tsv\", sep=\"\\t\")\n",
    "model = MLP(dataset[\"target\"].unique(), layers=[48, 10, 2], lambda_=0.2)\n",
    "labels = np.array(dataset[\"target\"])\n",
    "features = np.array(dataset.drop(\"target\", axis=1))\n",
    "model.fit(features, labels)\n",
    "acc = []\n",
    "size = len(features)\n",
    "for feature, label in zip(features, labels):\n",
    "    prediction = model.predict(feature)\n",
    "    if prediction == label:\n",
    "        acc.append(True)\n",
    "    else:\n",
    "        acc.append(False)\n",
    "print(f\"Accuracy: {sum(acc)/size}\")\n",
    "ts = pd.Series(model.learning_curve)\n",
    "ts.plot()\n",
    "plt.show()"
   ]
  },
  {
   "cell_type": "code",
   "execution_count": 12,
   "metadata": {},
   "outputs": [
    {
     "ename": "TypeError",
     "evalue": "fit() got an unexpected keyword argument 'attribute_names'",
     "output_type": "error",
     "traceback": [
      "\u001b[0;31m---------------------------------------------------------------------------\u001b[0m",
      "\u001b[0;31mTypeError\u001b[0m                                 Traceback (most recent call last)",
      "\u001b[0;32m<ipython-input-12-e0a285ed6bdd>\u001b[0m in \u001b[0;36m<module>\u001b[0;34m\u001b[0m\n\u001b[1;32m      9\u001b[0m \u001b[0mmodel\u001b[0m \u001b[0;34m=\u001b[0m \u001b[0mMLP\u001b[0m\u001b[0;34m(\u001b[0m\u001b[0mdataset\u001b[0m\u001b[0;34m[\u001b[0m\u001b[0;34m\"target\"\u001b[0m\u001b[0;34m]\u001b[0m\u001b[0;34m.\u001b[0m\u001b[0munique\u001b[0m\u001b[0;34m(\u001b[0m\u001b[0;34m)\u001b[0m\u001b[0;34m,\u001b[0m \u001b[0mlayers\u001b[0m\u001b[0;34m=\u001b[0m\u001b[0;34m[\u001b[0m\u001b[0;36m48\u001b[0m\u001b[0;34m,\u001b[0m \u001b[0;36m10\u001b[0m\u001b[0;34m,\u001b[0m \u001b[0;36m10\u001b[0m\u001b[0;34m,\u001b[0m \u001b[0;36m2\u001b[0m\u001b[0;34m]\u001b[0m\u001b[0;34m,\u001b[0m \u001b[0mlambda_\u001b[0m\u001b[0;34m=\u001b[0m\u001b[0;36m0.2\u001b[0m\u001b[0;34m)\u001b[0m\u001b[0;34m\u001b[0m\u001b[0;34m\u001b[0m\u001b[0m\n\u001b[1;32m     10\u001b[0m \u001b[0mkfold_xval\u001b[0m \u001b[0;34m=\u001b[0m \u001b[0mKFoldCrossValidation\u001b[0m\u001b[0;34m(\u001b[0m\u001b[0mmodel\u001b[0m\u001b[0;34m,\u001b[0m \u001b[0mdelimiter\u001b[0m\u001b[0;34m=\u001b[0m\u001b[0;34m\"\\t\"\u001b[0m\u001b[0;34m)\u001b[0m\u001b[0;34m\u001b[0m\u001b[0;34m\u001b[0m\u001b[0m\n\u001b[0;32m---> 11\u001b[0;31m \u001b[0mkfold_xval\u001b[0m\u001b[0;34m.\u001b[0m\u001b[0mkfold_cross_validation\u001b[0m\u001b[0;34m(\u001b[0m\u001b[0;34m\"../datasets/house_votes_84_normalized.tsv\"\u001b[0m\u001b[0;34m)\u001b[0m\u001b[0;34m\u001b[0m\u001b[0;34m\u001b[0m\u001b[0m\n\u001b[0m",
      "\u001b[0;32m/app/artificial_neural_network/kfold_crossvalidation.py\u001b[0m in \u001b[0;36mkfold_cross_validation\u001b[0;34m(self, filename, k_folds, repetitions)\u001b[0m\n\u001b[1;32m    157\u001b[0m                     \u001b[0mchain\u001b[0m\u001b[0;34m(\u001b[0m\u001b[0;34m*\u001b[0m\u001b[0;34m(\u001b[0m\u001b[0mfolds\u001b[0m\u001b[0;34m[\u001b[0m\u001b[0;34m:\u001b[0m\u001b[0mtest_fold_idx\u001b[0m\u001b[0;34m]\u001b[0m \u001b[0;34m+\u001b[0m \u001b[0mfolds\u001b[0m\u001b[0;34m[\u001b[0m\u001b[0mtest_fold_idx\u001b[0m \u001b[0;34m+\u001b[0m \u001b[0;36m1\u001b[0m \u001b[0;34m:\u001b[0m\u001b[0;34m]\u001b[0m\u001b[0;34m)\u001b[0m\u001b[0;34m)\u001b[0m\u001b[0;34m\u001b[0m\u001b[0;34m\u001b[0m\u001b[0m\n\u001b[1;32m    158\u001b[0m                 )\n\u001b[0;32m--> 159\u001b[0;31m                 \u001b[0mself\u001b[0m\u001b[0;34m.\u001b[0m\u001b[0mmodel\u001b[0m\u001b[0;34m.\u001b[0m\u001b[0mfit\u001b[0m\u001b[0;34m(\u001b[0m\u001b[0mtrain_folds\u001b[0m\u001b[0;34m,\u001b[0m \u001b[0mattribute_names\u001b[0m\u001b[0;34m=\u001b[0m\u001b[0mself\u001b[0m\u001b[0;34m.\u001b[0m\u001b[0mheaders\u001b[0m\u001b[0;34m[\u001b[0m\u001b[0;34m:\u001b[0m\u001b[0;34m-\u001b[0m\u001b[0;36m1\u001b[0m\u001b[0;34m]\u001b[0m\u001b[0;34m)\u001b[0m\u001b[0;34m\u001b[0m\u001b[0;34m\u001b[0m\u001b[0m\n\u001b[0m\u001b[1;32m    160\u001b[0m                 \u001b[0mpredictions\u001b[0m \u001b[0;34m=\u001b[0m \u001b[0mself\u001b[0m\u001b[0;34m.\u001b[0m\u001b[0mmodel\u001b[0m\u001b[0;34m.\u001b[0m\u001b[0mpredict\u001b[0m\u001b[0;34m(\u001b[0m\u001b[0mfolds\u001b[0m\u001b[0;34m[\u001b[0m\u001b[0mtest_fold_idx\u001b[0m\u001b[0;34m]\u001b[0m\u001b[0;34m)\u001b[0m\u001b[0;34m\u001b[0m\u001b[0;34m\u001b[0m\u001b[0m\n\u001b[1;32m    161\u001b[0m                 \u001b[0macc\u001b[0m \u001b[0;34m=\u001b[0m \u001b[0maccuracy\u001b[0m\u001b[0;34m(\u001b[0m\u001b[0mpredictions\u001b[0m\u001b[0;34m,\u001b[0m \u001b[0mtest_outcomes\u001b[0m\u001b[0;34m)\u001b[0m\u001b[0;34m\u001b[0m\u001b[0;34m\u001b[0m\u001b[0m\n",
      "\u001b[0;31mTypeError\u001b[0m: fit() got an unexpected keyword argument 'attribute_names'"
     ]
    }
   ],
   "source": [
    "from mlp import MLP\n",
    "from kfold_crossvalidation import KFoldCrossValidation\n",
    "\n",
    "from matplotlib import pyplot as plt\n",
    "import pandas as pd\n",
    "import numpy as np\n",
    "\n",
    "dataset = pd.read_csv(\"../datasets/house_votes_84_normalized.tsv\", sep=\"\\t\")\n",
    "model = MLP(dataset[\"target\"].unique(), layers=[48, 10, 10, 2], lambda_=0.2)\n",
    "kfold_xval = KFoldCrossValidation(model, delimiter=\"\\t\")\n",
    "kfold_xval.kfold_cross_validation(\"../datasets/house_votes_84_normalized.tsv\")"
   ]
  },
  {
   "cell_type": "code",
   "execution_count": null,
   "metadata": {},
   "outputs": [],
   "source": []
  }
 ],
 "metadata": {
  "kernelspec": {
   "display_name": "Python 3",
   "language": "python",
   "name": "python3"
  },
  "language_info": {
   "codemirror_mode": {
    "name": "ipython",
    "version": 3
   },
   "file_extension": ".py",
   "mimetype": "text/x-python",
   "name": "python",
   "nbconvert_exporter": "python",
   "pygments_lexer": "ipython3",
   "version": "3.8.1"
  }
 },
 "nbformat": 4,
 "nbformat_minor": 4
}
